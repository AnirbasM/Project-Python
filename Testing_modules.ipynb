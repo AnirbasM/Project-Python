{
 "cells": [
  {
   "cell_type": "markdown",
   "metadata": {},
   "source": [
    "## Testing the modules"
   ]
  },
  {
   "cell_type": "code",
   "execution_count": 1,
   "metadata": {},
   "outputs": [],
   "source": [
    "import modelnetwork\n",
    "from modelnetwork.reader import *\n"
   ]
  },
  {
   "cell_type": "code",
   "execution_count": 2,
   "metadata": {},
   "outputs": [
    {
     "name": "stdout",
     "output_type": "stream",
     "text": [
      "------------------------------\n",
      "Creating training images...\n",
      "------------------------------\n",
      "Done: 0/10 images\n",
      "Loading done.\n",
      "------------------------------\n",
      "Creating y training images...\n",
      "------------------------------\n",
      "Done: 0/10 images\n",
      "Loading done.\n",
      "Saving to .npy files done.\n"
     ]
    }
   ],
   "source": [
    "AOI_id='AOI_2'\n",
    "fmt='PAN'\n",
    "image_path=get_image_path(AOI_id,fmt)\n",
    "data_direct='data/'\n",
    "\n",
    "df=summary_poly_AOI_id(AOI_id)\n",
    "X=create_x_train_data(image_path)\n",
    "Y, Y_order=create_y_train_data(image_path,df)\n",
    "\n",
    "#saving the file\n",
    "data_direct='data/'\n",
    "np.save(os.path.join(data_direct,'X.npy'),X)\n",
    "np.save(os.path.join(data_direct,'Y.npy'),Y)\n",
    "np.save(os.path.join(data_direct,'Y_order.npy'),Y_order)\n",
    "\n",
    "print('Saving to .npy files done.')\n",
    "\n",
    "X_train, X_test, y_train, y_test,indices_train,indices_test = splitting_data_test_train()\n",
    "\n",
    "np.save(os.path.join(data_direct,'X_train.npy'), X_train)\n",
    "np.save(os.path.join(data_direct,'Y_train.npy'), y_train)\n",
    "np.save(os.path.join(data_direct,'y_test.npy'),  y_test)\n",
    "np.save(os.path.join(data_direct,'X_test.npy'),  X_test)\n",
    "np.save(os.path.join(data_direct,'indices_test.npy'),  indices_test)\n",
    "np.save(os.path.join(data_direct,'indices_train.npy'),  indices_train)"
   ]
  },
  {
   "cell_type": "markdown",
   "metadata": {},
   "source": [
    "Using the images"
   ]
  },
  {
   "cell_type": "code",
   "execution_count": 4,
   "metadata": {},
   "outputs": [],
   "source": [
    "from modelnetwork.preprocessing import *"
   ]
  },
  {
   "cell_type": "code",
   "execution_count": 3,
   "metadata": {},
   "outputs": [],
   "source": [
    "\n",
    "from modelnetwork.network import *"
   ]
  },
  {
   "cell_type": "code",
   "execution_count": 2,
   "metadata": {},
   "outputs": [
    {
     "name": "stderr",
     "output_type": "stream",
     "text": [
      "Using TensorFlow backend.\n"
     ]
    }
   ],
   "source": [
    "\n",
    "\n",
    "\n",
    "from modelnetwork.train import *"
   ]
  },
  {
   "cell_type": "code",
   "execution_count": 7,
   "metadata": {},
   "outputs": [
    {
     "name": "stdout",
     "output_type": "stream",
     "text": [
      "------------------------------\n",
      "Creating and compiling model...\n",
      "------------------------------\n",
      "WARNING:tensorflow:From /Users/sabrina/.pyenv/versions/3.6.5/envs/sab365/lib/python3.6/site-packages/tensorflow/python/framework/op_def_library.py:263: colocate_with (from tensorflow.python.framework.ops) is deprecated and will be removed in a future version.\n",
      "Instructions for updating:\n",
      "Colocations handled automatically by placer.\n",
      "------------------------------\n",
      "Fitting model...\n",
      "------------------------------\n",
      "Train on 4 samples, validate on 2 samples\n",
      "Epoch 1/20\n",
      " - 3s - loss: -5.4355e-04 - dice_coef: 5.4355e-04 - val_loss: -3.4135e-04 - val_dice_coef: 3.4135e-04\n",
      "Epoch 2/20\n",
      " - 1s - loss: -5.4361e-04 - dice_coef: 5.4361e-04 - val_loss: -3.4137e-04 - val_dice_coef: 3.4137e-04\n",
      "Epoch 3/20\n",
      " - 1s - loss: -5.4360e-04 - dice_coef: 5.4360e-04 - val_loss: -3.4139e-04 - val_dice_coef: 3.4139e-04\n",
      "Epoch 4/20\n",
      " - 1s - loss: -5.4362e-04 - dice_coef: 5.4362e-04 - val_loss: -3.4141e-04 - val_dice_coef: 3.4141e-04\n",
      "Epoch 5/20\n",
      " - 1s - loss: -5.4363e-04 - dice_coef: 5.4363e-04 - val_loss: -3.4143e-04 - val_dice_coef: 3.4143e-04\n",
      "Epoch 6/20\n",
      " - 1s - loss: -5.4366e-04 - dice_coef: 5.4366e-04 - val_loss: -3.4146e-04 - val_dice_coef: 3.4146e-04\n",
      "Epoch 7/20\n",
      " - 1s - loss: -5.4374e-04 - dice_coef: 5.4374e-04 - val_loss: -3.4148e-04 - val_dice_coef: 3.4148e-04\n",
      "Epoch 8/20\n",
      " - 1s - loss: -5.4374e-04 - dice_coef: 5.4374e-04 - val_loss: -3.4150e-04 - val_dice_coef: 3.4150e-04\n",
      "Epoch 9/20\n",
      " - 1s - loss: -5.4379e-04 - dice_coef: 5.4379e-04 - val_loss: -3.4153e-04 - val_dice_coef: 3.4153e-04\n",
      "Epoch 10/20\n",
      " - 1s - loss: -5.4382e-04 - dice_coef: 5.4382e-04 - val_loss: -3.4155e-04 - val_dice_coef: 3.4155e-04\n",
      "Epoch 11/20\n",
      " - 1s - loss: -5.4383e-04 - dice_coef: 5.4383e-04 - val_loss: -3.4158e-04 - val_dice_coef: 3.4158e-04\n",
      "Epoch 12/20\n",
      " - 1s - loss: -5.4384e-04 - dice_coef: 5.4384e-04 - val_loss: -3.4160e-04 - val_dice_coef: 3.4160e-04\n",
      "Epoch 13/20\n",
      " - 1s - loss: -5.4387e-04 - dice_coef: 5.4387e-04 - val_loss: -3.4163e-04 - val_dice_coef: 3.4163e-04\n",
      "Epoch 14/20\n",
      " - 1s - loss: -5.4392e-04 - dice_coef: 5.4392e-04 - val_loss: -3.4165e-04 - val_dice_coef: 3.4165e-04\n",
      "Epoch 15/20\n",
      " - 1s - loss: -5.4397e-04 - dice_coef: 5.4397e-04 - val_loss: -3.4168e-04 - val_dice_coef: 3.4168e-04\n",
      "Epoch 16/20\n",
      " - 1s - loss: -5.4400e-04 - dice_coef: 5.4400e-04 - val_loss: -3.4170e-04 - val_dice_coef: 3.4170e-04\n",
      "Epoch 17/20\n",
      " - 1s - loss: -5.4402e-04 - dice_coef: 5.4402e-04 - val_loss: -3.4173e-04 - val_dice_coef: 3.4173e-04\n",
      "Epoch 18/20\n",
      " - 1s - loss: -5.4406e-04 - dice_coef: 5.4406e-04 - val_loss: -3.4175e-04 - val_dice_coef: 3.4175e-04\n",
      "Epoch 19/20\n",
      " - 1s - loss: -5.4408e-04 - dice_coef: 5.4408e-04 - val_loss: -3.4178e-04 - val_dice_coef: 3.4178e-04\n",
      "Epoch 20/20\n",
      " - 1s - loss: -5.4409e-04 - dice_coef: 5.4409e-04 - val_loss: -3.4181e-04 - val_dice_coef: 3.4181e-04\n"
     ]
    }
   ],
   "source": [
    "img_rows=96\n",
    "img_cols=96\n",
    "  \n",
    "Xtrain,Ytrain = loading_train_data()\n",
    "Xtrain=preprocess_ris(Xtrain,img_cols,img_rows)\n",
    "Ytrain=preprocess_ris(Ytrain,img_cols,img_rows)\n",
    "Xtrain= normalizing_imgs(Xtrain)\n",
    "Ytrain= normalizing_imgs(Ytrain)\n",
    "smooth=1\n",
    "model=train_mod(Xtrain,Ytrain)"
   ]
  },
  {
   "cell_type": "code",
   "execution_count": 8,
   "metadata": {},
   "outputs": [],
   "source": [
    "from modelnetwork.predict import *"
   ]
  },
  {
   "cell_type": "code",
   "execution_count": 9,
   "metadata": {},
   "outputs": [
    {
     "name": "stdout",
     "output_type": "stream",
     "text": [
      "------------------------------\n",
      "Loading saved weights...\n",
      "------------------------------\n",
      "------------------------------\n",
      "Predicting masks on test data...\n",
      "------------------------------\n",
      "------------------------------\n",
      "Saving predicted masks to files...\n",
      "------------------------------\n"
     ]
    },
    {
     "name": "stderr",
     "output_type": "stream",
     "text": [
      "/Users/sabrina/.pyenv/versions/3.6.5/envs/sab365/lib/python3.6/site-packages/skimage/io/_io.py:141: UserWarning: data/AOI_2_Vegas_img2636_pred.png is a low contrast image\n",
      "  warn('%s is a low contrast image' % fname)\n",
      "/Users/sabrina/.pyenv/versions/3.6.5/envs/sab365/lib/python3.6/site-packages/skimage/io/_io.py:141: UserWarning: data/AOI_2_Vegas_img5184_pred.png is a low contrast image\n",
      "  warn('%s is a low contrast image' % fname)\n",
      "/Users/sabrina/.pyenv/versions/3.6.5/envs/sab365/lib/python3.6/site-packages/skimage/io/_io.py:141: UserWarning: data/AOI_2_Vegas_img802_pred.png is a low contrast image\n",
      "  warn('%s is a low contrast image' % fname)\n",
      "/Users/sabrina/.pyenv/versions/3.6.5/envs/sab365/lib/python3.6/site-packages/skimage/io/_io.py:141: UserWarning: data/AOI_2_Vegas_img246_pred.png is a low contrast image\n",
      "  warn('%s is a low contrast image' % fname)\n"
     ]
    }
   ],
   "source": [
    "predict_mod(model)"
   ]
  },
  {
   "cell_type": "code",
   "execution_count": null,
   "metadata": {},
   "outputs": [],
   "source": []
  }
 ],
 "metadata": {
  "kernelspec": {
   "display_name": "Python 3",
   "language": "python",
   "name": "python3"
  },
  "language_info": {
   "codemirror_mode": {
    "name": "ipython",
    "version": 3
   },
   "file_extension": ".py",
   "mimetype": "text/x-python",
   "name": "python",
   "nbconvert_exporter": "python",
   "pygments_lexer": "ipython3",
   "version": "3.6.5"
  }
 },
 "nbformat": 4,
 "nbformat_minor": 2
}
